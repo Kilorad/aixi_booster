{
 "cells": [
  {
   "cell_type": "code",
   "execution_count": 1,
   "metadata": {},
   "outputs": [],
   "source": [
    "from aixi_booster import *\n",
    "import numpy as np\n",
    "import pandas as pd\n",
    "import random"
   ]
  },
  {
   "cell_type": "code",
   "execution_count": 2,
   "metadata": {},
   "outputs": [],
   "source": [
    "#X = np.array(np.arange(1000),ndmin=2).T\n",
    "#Y = np.array(np.sin(X/12.),ndmin=2)"
   ]
  },
  {
   "cell_type": "code",
   "execution_count": 3,
   "metadata": {},
   "outputs": [],
   "source": [
    "np.random.seed(0)\n",
    "random.seed(0)"
   ]
  },
  {
   "cell_type": "code",
   "execution_count": 4,
   "metadata": {},
   "outputs": [],
   "source": [
    "#делаем датасет\n",
    "#Суть датасета: есть зашумлённая синусоида, на которую наложены случайные блуждания. \n",
    "#AIXI примерно знает текущее состояние блужданий и немного устаревшие значения этой \"синусоиды\"\n",
    "j = 0\n",
    "X_lst = []\n",
    "Y_lst = []\n",
    "X_rec = [0, 0]\n",
    "k = 0\n",
    "dk = -0.02\n",
    "for i in range(5500):\n",
    "    j += (np.random.rand()-0.5)*6\n",
    "    dk += (np.random.rand()-0.48)*0.001\n",
    "    k += dk\n",
    "    Y_rec = [np.sin(X_rec[0]*0.02 + X_rec[1]*0.0000001) * (1 + np.cos(X_rec[0] * 0.001) * X_rec[1] * 0.1) + k]\n",
    "    Y_prev = 0\n",
    "    if len(Y_lst)>5:\n",
    "        Y_prev = Y_lst[-5][0]\n",
    "    X_rec = [i, j, dk, Y_prev]\n",
    "    X_lst.append(X_rec)\n",
    "    Y_lst.append(Y_rec)\n",
    "X = np.array(X_lst)\n",
    "Y = np.array(Y_lst)"
   ]
  },
  {
   "cell_type": "code",
   "execution_count": 5,
   "metadata": {},
   "outputs": [
    {
     "data": {
      "text/plain": [
       "[<matplotlib.lines.Line2D at 0x1f507abb730>]"
      ]
     },
     "execution_count": 5,
     "metadata": {},
     "output_type": "execute_result"
    },
    {
     "data": {
      "image/png": "[encoded data removed]",
      "text/plain": [
       "<Figure size 432x288 with 1 Axes>"
      ]
     },
     "metadata": {
      "needs_background": "light"
     },
     "output_type": "display_data"
    }
   ],
   "source": [
    "plt.plot(Y)"
   ]
  },
  {
   "cell_type": "code",
   "execution_count": null,
   "metadata": {},
   "outputs": [],
   "source": []
  },
  {
   "cell_type": "code",
   "execution_count": null,
   "metadata": {},
   "outputs": [
    {
     "name": "stdout",
     "output_type": "stream",
     "text": [
      "FOREST NUMBER 0, episodes [[2000 2250]\n",
      " [3750 4000]\n",
      " [3250 3500]\n",
      " [2000 2250]\n",
      " [2750 3000]\n",
      " [2750 3000]\n",
      " [2000 2250]\n",
      " [1750 2000]\n",
      " [ 500  750]\n",
      " [2750 3000]\n",
      " [3750 4000]\n",
      " [1250 1500]\n",
      " [1750 2000]\n",
      " [ 750 1000]]\n",
      "p_arr max,min,med,q0.25,q0.75 0.6666666666666666 0.0037907505686884005 0.032864782276615226 0.021130511062259077 0.06130115089538842\n"
     ]
    }
   ],
   "source": [
    "%%time\n",
    "#forest_count - число гипотез, то есть размер леса гипотез\n",
    "#episodes - эпизоды работы AIXI. Если в реальной жизни данные - это несколько блоков по несколько записей.\n",
    "#Причём каждый блок - это последовательность, у которой известно прошлое, но неизвестно будущее и неизвестны другие последовательности.\n",
    "#Вот эпизоды - это такие последовательности. Например, если у нас данные - это 2 поездки на машине в 10 минут и в 50 минут, то первым эпизодом будут данные из одной поездки, а вторым - из второй.\n",
    "#sample_part - сколько последовательностей использовать для генерации каждой одной гипотезы\n",
    "#popsize, maxiter, alpha_count, elitarism, mutation_p - параметры эволюции (мы не будет тупо перебирать гипотезы)\n",
    "#popsize - размер популяции, maxiter - число поколений, alpha_count - число альфачей (кто размножается), elitarism - число элитариев (кто сохраняется в неизменном виде в следующем поколении) \n",
    "#mutation_p - вероятность мутации\n",
    "#boosting_count - каждая гипотеза сделана по схеме \"бустинг\". То есть вначале подбираем гипотезу, \n",
    "#которая максимально хорошо предсказывает Y, затем гипотезу, которая максимально хорошо исправляет ошибки первой гипотезы и так далее\n",
    "#boosting_count - это число слоёв в этом \"бутерброде\"\n",
    "model = symbolic_regression_multyboosting(size_genom=900, tact_count=30, regularization=1.,postprocessing_prod='lin', postprocessing_learn='lin')\n",
    "fractor = 22\n",
    "episodes = []\n",
    "for i in range(fractor):\n",
    "    episodes.append([i*int(len(Y)/fractor), (i+1)*int(len(Y)/fractor)])\n",
    "episodes_train = episodes[:-5]\n",
    "episodes_test = episodes[-5:]\n",
    "border = episodes_train[-1][-1]\n",
    "X_train = X[:border]\n",
    "Y_train = Y[:border]\n",
    "X_test = X[border:]\n",
    "Y_test = Y[border:]\n",
    "model.fit(X_train,Y_train,forest_count=20,sample_part=0.8,episodes=episodes_train,popsize=30, maxiter=3, boosting_count=2, alpha_count=5, elitarism=2, mutation_p=0.02, n_jobs=7)"
   ]
  },
  {
   "cell_type": "code",
   "execution_count": 7,
   "metadata": {},
   "outputs": [],
   "source": [
    "#Архитектура ML-модели:\n",
    "#symbolic_regression_multyboosting, он же FOREST - массив под-моделей symbolic_regression_boosting. Соединены как random forest, параллельно\n",
    "#symbolic_regression_boosting - массив моделей symbolic_regression, соединённых как бустинг, последовательно\n",
    "#symbolic_regression - машина Тьюринга и пост-обработчик в виде какой-нибудь модели ML. Модель выбирается автоматом из Ridge, Xgboost и стекинга Xgboost+Ridge"
   ]
  },
  {
   "cell_type": "code",
   "execution_count": 8,
   "metadata": {},
   "outputs": [
    {
     "ename": "ValueError",
     "evalue": "zero-size array to reduction operation minimum which has no identity",
     "output_type": "error",
     "traceback": [
      "\u001b[1;31m---------------------------------------------------------------------------\u001b[0m",
      "\u001b[1;31mValueError\u001b[0m                                Traceback (most recent call last)",
      "\u001b[1;32m~\\AppData\\Local\\Temp/ipykernel_6040/2859305385.py\u001b[0m in \u001b[0;36m<module>\u001b[1;34m\u001b[0m\n\u001b[1;32m----> 1\u001b[1;33m \u001b[0mY_pred\u001b[0m \u001b[1;33m=\u001b[0m \u001b[0mmodel\u001b[0m\u001b[1;33m.\u001b[0m\u001b[0mpredict\u001b[0m\u001b[1;33m(\u001b[0m\u001b[0mX_test\u001b[0m\u001b[1;33m,\u001b[0m\u001b[0mreturn_hist\u001b[0m\u001b[1;33m=\u001b[0m\u001b[1;32mTrue\u001b[0m\u001b[1;33m)\u001b[0m\u001b[1;33m\u001b[0m\u001b[1;33m\u001b[0m\u001b[0m\n\u001b[0m\u001b[0;32m      2\u001b[0m \u001b[1;31m#ПРОТОКОЛ ГИСТОГРАММЫ: [pred_list,p_array,m_pred]\u001b[0m\u001b[1;33m\u001b[0m\u001b[1;33m\u001b[0m\u001b[0m\n\u001b[0;32m      3\u001b[0m \u001b[1;31m#pred list - это прогноз ы отдельных моделей\u001b[0m\u001b[1;33m\u001b[0m\u001b[1;33m\u001b[0m\u001b[0m\n\u001b[0;32m      4\u001b[0m \u001b[1;31m#p_array - это вероятности этих моделей быть истинными (очень условно, но это терминология AIXI. Вероятность зависит от mse и числа ненулевых генов)\u001b[0m\u001b[1;33m\u001b[0m\u001b[1;33m\u001b[0m\u001b[0m\n\u001b[0;32m      5\u001b[0m \u001b[1;31m#m_pred - матожидание результата. Взвешенная сумма всех прогнозов\u001b[0m\u001b[1;33m\u001b[0m\u001b[1;33m\u001b[0m\u001b[0m\n",
      "\u001b[1;32mE:\\PYTHON\\aixi_booster\\aixi_booster.py\u001b[0m in \u001b[0;36mpredict\u001b[1;34m(self, X, episodes, return_hist)\u001b[0m\n\u001b[0;32m   1494\u001b[0m         \u001b[1;31m#log_likelyhood_arr-=min(log_likelyhood_arr)\u001b[0m\u001b[1;33m\u001b[0m\u001b[1;33m\u001b[0m\u001b[0m\n\u001b[0;32m   1495\u001b[0m         \u001b[1;31m#print('log_likelyhood_arr',log_likelyhood_arr)\u001b[0m\u001b[1;33m\u001b[0m\u001b[1;33m\u001b[0m\u001b[0m\n\u001b[1;32m-> 1496\u001b[1;33m         \u001b[0mlog_likelyhood_arr\u001b[0m\u001b[1;33m=\u001b[0m\u001b[0mlog_likelyhood_arr\u001b[0m\u001b[1;33m-\u001b[0m\u001b[0mnp\u001b[0m\u001b[1;33m.\u001b[0m\u001b[0mmin\u001b[0m\u001b[1;33m(\u001b[0m\u001b[0mlog_likelyhood_arr\u001b[0m\u001b[1;33m)\u001b[0m\u001b[1;33m\u001b[0m\u001b[1;33m\u001b[0m\u001b[0m\n\u001b[0m\u001b[0;32m   1497\u001b[0m         \u001b[0mp_array\u001b[0m\u001b[1;33m=\u001b[0m\u001b[1;36m2\u001b[0m\u001b[1;33m**\u001b[0m\u001b[1;33m(\u001b[0m\u001b[1;33m-\u001b[0m\u001b[0mlog_likelyhood_arr\u001b[0m\u001b[1;33m)\u001b[0m\u001b[1;33m\u001b[0m\u001b[1;33m\u001b[0m\u001b[0m\n\u001b[0;32m   1498\u001b[0m         \u001b[1;32mif\u001b[0m \u001b[0msum\u001b[0m\u001b[1;33m(\u001b[0m\u001b[0mp_array\u001b[0m\u001b[1;33m)\u001b[0m\u001b[1;33m>\u001b[0m\u001b[1;36m1e-50\u001b[0m\u001b[1;33m:\u001b[0m\u001b[1;33m\u001b[0m\u001b[1;33m\u001b[0m\u001b[0m\n",
      "\u001b[1;32mE:\\ProgramData\\Anaconda3\\lib\\site-packages\\numpy\\core\\overrides.py\u001b[0m in \u001b[0;36mamin\u001b[1;34m(*args, **kwargs)\u001b[0m\n",
      "\u001b[1;32mE:\\ProgramData\\Anaconda3\\lib\\site-packages\\numpy\\core\\fromnumeric.py\u001b[0m in \u001b[0;36mamin\u001b[1;34m(a, axis, out, keepdims, initial, where)\u001b[0m\n\u001b[0;32m   2914\u001b[0m     \u001b[1;36m6\u001b[0m\u001b[1;33m\u001b[0m\u001b[1;33m\u001b[0m\u001b[0m\n\u001b[0;32m   2915\u001b[0m     \"\"\"\n\u001b[1;32m-> 2916\u001b[1;33m     return _wrapreduction(a, np.minimum, 'min', axis, None, out,\n\u001b[0m\u001b[0;32m   2917\u001b[0m                           keepdims=keepdims, initial=initial, where=where)\n\u001b[0;32m   2918\u001b[0m \u001b[1;33m\u001b[0m\u001b[0m\n",
      "\u001b[1;32mE:\\ProgramData\\Anaconda3\\lib\\site-packages\\numpy\\core\\fromnumeric.py\u001b[0m in \u001b[0;36m_wrapreduction\u001b[1;34m(obj, ufunc, method, axis, dtype, out, **kwargs)\u001b[0m\n\u001b[0;32m     84\u001b[0m                 \u001b[1;32mreturn\u001b[0m \u001b[0mreduction\u001b[0m\u001b[1;33m(\u001b[0m\u001b[0maxis\u001b[0m\u001b[1;33m=\u001b[0m\u001b[0maxis\u001b[0m\u001b[1;33m,\u001b[0m \u001b[0mout\u001b[0m\u001b[1;33m=\u001b[0m\u001b[0mout\u001b[0m\u001b[1;33m,\u001b[0m \u001b[1;33m**\u001b[0m\u001b[0mpasskwargs\u001b[0m\u001b[1;33m)\u001b[0m\u001b[1;33m\u001b[0m\u001b[1;33m\u001b[0m\u001b[0m\n\u001b[0;32m     85\u001b[0m \u001b[1;33m\u001b[0m\u001b[0m\n\u001b[1;32m---> 86\u001b[1;33m     \u001b[1;32mreturn\u001b[0m \u001b[0mufunc\u001b[0m\u001b[1;33m.\u001b[0m\u001b[0mreduce\u001b[0m\u001b[1;33m(\u001b[0m\u001b[0mobj\u001b[0m\u001b[1;33m,\u001b[0m \u001b[0maxis\u001b[0m\u001b[1;33m,\u001b[0m \u001b[0mdtype\u001b[0m\u001b[1;33m,\u001b[0m \u001b[0mout\u001b[0m\u001b[1;33m,\u001b[0m \u001b[1;33m**\u001b[0m\u001b[0mpasskwargs\u001b[0m\u001b[1;33m)\u001b[0m\u001b[1;33m\u001b[0m\u001b[1;33m\u001b[0m\u001b[0m\n\u001b[0m\u001b[0;32m     87\u001b[0m \u001b[1;33m\u001b[0m\u001b[0m\n\u001b[0;32m     88\u001b[0m \u001b[1;33m\u001b[0m\u001b[0m\n",
      "\u001b[1;31mValueError\u001b[0m: zero-size array to reduction operation minimum which has no identity"
     ]
    }
   ],
   "source": [
    "Y_pred = model.predict(X_test,return_hist=True)\n",
    "#ПРОТОКОЛ ГИСТОГРАММЫ: [pred_list,p_array,m_pred]  \n",
    "#pred list - это прогноз ы отдельных моделей\n",
    "#p_array - это вероятности этих моделей быть истинными (очень условно, но это терминология AIXI. Вероятность зависит от mse и числа ненулевых генов)\n",
    "#m_pred - матожидание результата. Взвешенная сумма всех прогнозов"
   ]
  },
  {
   "cell_type": "code",
   "execution_count": null,
   "metadata": {},
   "outputs": [],
   "source": [
    "#train\n",
    "#отрисовать факт синим\n",
    "#Y_pred = model.predict(X_train,return_hist=True)\n",
    "for episod in episodes_train:\n",
    "    #мы учили систему выдавать последовательности длиной в 500/4, на более длинных система работать не обязана, \n",
    "    #так что тестим на последовательностях той же длины\n",
    "    plt.plot(Y[episod[0]:episod[1],:])\n",
    "    Y_pred = model.predict(X_train[episod[0]:episod[1],:],return_hist=True)\n",
    "    [pred,p_array,m_pred] = Y_pred\n",
    "    print('Отрисовать прогноз - несколькими цветами, пунктиром, яркость пропорциональна вероятности')\n",
    "    print('Прогноз итеративный, но синюю линию агент вообще не видит, это Y, а агент видит переменные X, они не показаны')\n",
    "    for i in range(len(pred)):\n",
    "        if 15+np.log(p_array[i])>0:\n",
    "            plt.plot(pred[i],'--',linewidth=0.1*np.max([15+np.log(p_array[i]),0] ), label=f'p={np.round(p_array[i], 6) * 100}%' )\n",
    "    plt.legend()\n",
    "    plt.show()"
   ]
  },
  {
   "cell_type": "code",
   "execution_count": null,
   "metadata": {},
   "outputs": [],
   "source": [
    "#test\n",
    "#отрисовать факт синим\n",
    "#Y_pred = model.predict(X_train,return_hist=True)\n",
    "for episod in episodes_test:\n",
    "    #мы учили систему выдавать последовательности длиной в 500/3, на более длинных система работать не обязана, \n",
    "    #так что тестим на последовательностях той же длины\n",
    "    plt.plot(Y[episod[0]:episod[1],:])\n",
    "    Y_pred = model.predict(X[episod[0]:episod[1],:],return_hist=True)\n",
    "    [pred,p_array,m_pred] = Y_pred\n",
    "    print('Отрисовать прогноз - несколькими цветами, пунктиром, яркость пропорциональна вероятности')\n",
    "    print('Прогноз итеративный, но синюю линию агент вообще не видит, это Y, а агент видит переменные X, они не показаны')\n",
    "    for i in range(len(pred)):\n",
    "        if 15+np.log(p_array[i])>0:\n",
    "            plt.plot(pred[i],'--',linewidth=0.1*np.max([15+np.log(p_array[i]),0] ), label=f'p={np.round(p_array[i], 6) * 100}%' )\n",
    "    plt.legend()\n",
    "    plt.show()"
   ]
  },
  {
   "cell_type": "code",
   "execution_count": null,
   "metadata": {},
   "outputs": [],
   "source": []
  },
  {
   "cell_type": "code",
   "execution_count": null,
   "metadata": {},
   "outputs": [],
   "source": [
    "#Нарисовать прогноз всего ряда ЦЕЛИКОМ\n",
    "for episod in episodes:\n",
    "    #мы учили систему выдавать последовательности длиной в 500/4, на более длинных система работать не обязана, \n",
    "    #так что тестим на последовательностях той же длины\n",
    "    plt.plot(np.arange(episod[0],episod[1]),Y[episod[0]:episod[1],:])\n",
    "    Y_pred = model.predict(X[episod[0]:episod[1],:],return_hist=True)\n",
    "    [pred,p_array,m_pred] = Y_pred\n",
    "    for i in range(len(pred)):\n",
    "        if 15+np.log(p_array[i])>0:\n",
    "            plt.plot(np.arange(episod[0],episod[1]),pred[i],'--',linewidth=0.1*np.max([15+np.log(p_array[i]),0] ))\n",
    "    #plt.legend()\n",
    "    #plt.show()\n",
    "    \n",
    "\n",
    "plt.legend()\n",
    "plt.show()"
   ]
  },
  {
   "cell_type": "code",
   "execution_count": null,
   "metadata": {},
   "outputs": [],
   "source": [
    "episodes"
   ]
  },
  {
   "cell_type": "code",
   "execution_count": null,
   "metadata": {},
   "outputs": [],
   "source": [
    "1/0"
   ]
  },
  {
   "cell_type": "code",
   "execution_count": null,
   "metadata": {},
   "outputs": [],
   "source": [
    "#делаем датасет\n",
    "#Суть датасета: есть рандомные массивы, надо найти максимум\n",
    "X_lst = []\n",
    "Y_lst = []\n",
    "for i in range(1000):\n",
    "    X_rec = np.random.rand(6)*20\n",
    "    Y_rec = [np.max(X_rec)]\n",
    "    X_lst.append(X_rec)\n",
    "    Y_lst.append(Y_rec)\n",
    "X = np.array(X_lst)\n",
    "Y = np.array(Y_lst,ndmin=2)"
   ]
  },
  {
   "cell_type": "code",
   "execution_count": null,
   "metadata": {},
   "outputs": [],
   "source": [
    "plt.plot(Y)"
   ]
  },
  {
   "cell_type": "code",
   "execution_count": null,
   "metadata": {},
   "outputs": [],
   "source": [
    "border = 500\n",
    "X_train = X[:border,:]\n",
    "X_test = X[border:,:]\n",
    "Y_train = Y[:border,:]\n",
    "Y_test = Y[border:,:]"
   ]
  },
  {
   "cell_type": "code",
   "execution_count": null,
   "metadata": {},
   "outputs": [],
   "source": [
    "%%time\n",
    "model = symbolic_regression_multyboosting(size_genom=900,tact_count=50, regularization=1.)\n",
    "episodes=[]\n",
    "for i in range(len(Y_train)-1):\n",
    "    episodes.append([i,i+1])\n",
    "model = symbolic_regression_multyboosting(size_genom=900,tact_count=30, regularization=1.)\n",
    "model.fit(X_train,Y_train,forest_count=9,sample_part=0.8,episodes=episodes,popsize=30, maxiter=3, boosting_count=2, alpha_count=5, elitarism=2, mutation_p=0.02)"
   ]
  },
  {
   "cell_type": "code",
   "execution_count": null,
   "metadata": {},
   "outputs": [],
   "source": [
    "#train\n",
    "#отрисовать факт синим\n",
    "for episod in episodes[:20]:\n",
    "    #мы учили систему выдавать последовательности длиной в 1, на более длинных система работать не обязана, \n",
    "    #так что тестим на последовательностях той же длины\n",
    "    plt.plot(Y_train[episod[0]:episod[1],:])\n",
    "    Y_pred = model.predict(X_train[episod[0]:episod[1],:],return_hist=True)\n",
    "    [pred,p_array,m_pred] = Y_pred\n",
    "    for i in range(len(pred)):\n",
    "        #отрисовать прогноз - несколькими цветами, пунктиром, яркость пропорциональна вероятности\n",
    "        if 10+np.log(p_array[i])>0:\n",
    "            plt.plot(pred[i],'--',linewidth=0.1*np.max([10+np.log(p_array[i]),0] ) )\n",
    "    plt.show()"
   ]
  },
  {
   "cell_type": "code",
   "execution_count": null,
   "metadata": {},
   "outputs": [],
   "source": [
    "#test\n",
    "#отрисовать факт\n",
    "counter = 0\n",
    "lst = []\n",
    "for episod in episodes:\n",
    "    counter += 1\n",
    "    #мы учили систему выдавать последовательности длиной в 1, на более длинных система работать не обязана, \n",
    "    #так что тестим на последовательностях той же длины\n",
    "    draw = counter<10\n",
    "    if draw:\n",
    "        plt.plot(Y_test[episod[0]:episod[1],:])\n",
    "    Y_pred = model.predict(X_test[episod[0]:episod[1],:],return_hist=True)\n",
    "    [pred,p_array,m_pred] = Y_pred\n",
    "    if draw:\n",
    "        for i in range(len(pred)):\n",
    "            #отрисовать прогноз - несколькими цветами, пунктиром, яркость пропорциональна вероятности\n",
    "            if 10+np.log(p_array[i])>0:\n",
    "                plt.plot(pred[i],'--',linewidth=0.1*np.max([10+np.log(p_array[i]),0] ) )\n",
    "    mae = np.mean(np.abs(m_pred - Y_test[episod[0]:episod[1],:]))\n",
    "    mae_mean = mae/np.mean(np.abs(Y_test[episod[0]:episod[1],:]))\n",
    "    lst.append({'mae':mae, 'mae_mean':mae_mean})\n",
    "    if draw:\n",
    "        print('mae',mae,'mae_mean',mae_mean)\n",
    "        plt.show()"
   ]
  },
  {
   "cell_type": "code",
   "execution_count": null,
   "metadata": {},
   "outputs": [],
   "source": [
    "report = pd.DataFrame(lst)\n",
    "report"
   ]
  },
  {
   "cell_type": "code",
   "execution_count": null,
   "metadata": {},
   "outputs": [],
   "source": [
    "print(report.mae.mean(),report.mae_mean.mean())"
   ]
  },
  {
   "cell_type": "code",
   "execution_count": null,
   "metadata": {},
   "outputs": [],
   "source": []
  }
 ],
 "metadata": {
  "kernelspec": {
   "display_name": "Python 3 (ipykernel)",
   "language": "python",
   "name": "python3"
  },
  "language_info": {
   "codemirror_mode": {
    "name": "ipython",
    "version": 3
   },
   "file_extension": ".py",
   "mimetype": "text/x-python",
   "name": "python",
   "nbconvert_exporter": "python",
   "pygments_lexer": "ipython3",
   "version": "3.9.7"
  }
 },
 "nbformat": 4,
 "nbformat_minor": 2
}
